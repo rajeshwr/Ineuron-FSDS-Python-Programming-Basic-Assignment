{
 "cells": [
  {
   "cell_type": "markdown",
   "id": "9c8b62a7",
   "metadata": {},
   "source": [
    "Q1. Write a Python Program to Display Fibonacci Sequence Using Recursion?"
   ]
  },
  {
   "cell_type": "code",
   "execution_count": 1,
   "id": "1dfabd2a",
   "metadata": {},
   "outputs": [
    {
     "name": "stdout",
     "output_type": "stream",
     "text": [
      "enter a number to find the fibonacci series : 35\n",
      "Fibonacci series upto  35 :\n",
      "0 1 1 2 3 5 8 13 21 34 55 89 144 233 377 610 987 1597 2584 4181 6765 10946 17711 28657 46368 75025 121393 196418 317811 514229 832040 1346269 2178309 3524578 5702887 "
     ]
    }
   ],
   "source": [
    "# Fibonacci series - > 1, 1, 2, 3, 5,8,13........\n",
    "def fibo(n):\n",
    "    if n <= 1:\n",
    "        return n\n",
    "    else:\n",
    "        return fibo(n-1) +  fibo(n-2)\n",
    "sequence = int(input(\"enter a number to find the fibonacci series : \"))\n",
    "\n",
    "\n",
    "if sequence <= 0:\n",
    "    print(\"Please enter a positive number\")\n",
    "elif sequence == 1:\n",
    "    print(\"Fibonacci series upto \",sequence, \":\")\n",
    "    print(f1)\n",
    "else:\n",
    "    print(\"Fibonacci series upto \",sequence, \":\")\n",
    "    for i in range(sequence):       \n",
    "        print(fibo(i),end=' ')"
   ]
  },
  {
   "cell_type": "markdown",
   "id": "a9a6d834",
   "metadata": {},
   "source": [
    "Q2. Write a Python Program to Find Factorial of Number Using Recursion?"
   ]
  },
  {
   "cell_type": "code",
   "execution_count": 2,
   "id": "d5aade75",
   "metadata": {},
   "outputs": [
    {
     "name": "stdout",
     "output_type": "stream",
     "text": [
      "Enter a Number to find factorial : 34\n",
      "Factorial of 34 is 295232799039604140847618609643520000000\n"
     ]
    }
   ],
   "source": [
    "# Factorial of a number\n",
    "\n",
    "def fact(n):  \n",
    "    if n == 1:\n",
    "        return n\n",
    "    else:\n",
    "        return n * fact(n-1)   \n",
    "        \n",
    "\n",
    "num = int(input(\"Enter a Number to find factorial : \"))\n",
    "if num < 0:\n",
    "    print(\"Can not calculate Factorial of a negative number\")        \n",
    "elif num == 0:\n",
    "    print(\"Factorial of zero is 1\")\n",
    "else:\n",
    "    print(\"Factorial of {} is {}\".format(num, fact(num)))"
   ]
  },
  {
   "cell_type": "markdown",
   "id": "68d3e7f4",
   "metadata": {},
   "source": [
    "Q3. Write a Python Program to calculate your Body Mass Index?"
   ]
  },
  {
   "cell_type": "code",
   "execution_count": 2,
   "id": "ea58653b",
   "metadata": {},
   "outputs": [
    {
     "name": "stdout",
     "output_type": "stream",
     "text": [
      "enter your height in feet : 5\n",
      "enter your weight in kilo : 93\n",
      "The BIM is =  3.72\n"
     ]
    }
   ],
   "source": [
    "# BMI = weight / Height * height\n",
    "\n",
    "h = float(input(\"enter your height in feet : \"))\n",
    "w = float(input(\"enter your weight in kilo : \"))\n",
    "\n",
    "bmi = w/(h**2)\n",
    "\n",
    "print(\"The BIM is = \",bmi)"
   ]
  },
  {
   "cell_type": "markdown",
   "id": "1fb89fa2",
   "metadata": {},
   "source": [
    "Q4. Write a Python Program to calculate the natural logarithm of any number?"
   ]
  },
  {
   "cell_type": "code",
   "execution_count": 3,
   "id": "a26bbdb8",
   "metadata": {},
   "outputs": [
    {
     "name": "stdout",
     "output_type": "stream",
     "text": [
      "Enter a number : 4\n",
      "Log of 4 is 1.3862943611198906\n"
     ]
    }
   ],
   "source": [
    "import math\n",
    "x = int(input((\"Enter a number : \")))\n",
    "log = math.log(x)\n",
    "print(\"Log of {} is {}\".format(x, log))"
   ]
  },
  {
   "cell_type": "markdown",
   "id": "6ae313e5",
   "metadata": {},
   "source": [
    "Q5. Write a Python Program for cube sum of first n natural numbers?"
   ]
  },
  {
   "cell_type": "code",
   "execution_count": 4,
   "id": "0aab1409",
   "metadata": {},
   "outputs": [
    {
     "name": "stdout",
     "output_type": "stream",
     "text": [
      "Enter n : 2\n",
      "Cube sum of 2 natural numbers is 9\n"
     ]
    }
   ],
   "source": [
    "n = int(input(\"Enter n : \"))\n",
    "sum = 0\n",
    "for i in range(1,n+1):\n",
    "    sum+=i**3\n",
    "print(\"Cube sum of {} natural numbers is {}\".format(n,sum))"
   ]
  }
 ],
 "metadata": {
  "kernelspec": {
   "display_name": "Python 3 (ipykernel)",
   "language": "python",
   "name": "python3"
  },
  "language_info": {
   "codemirror_mode": {
    "name": "ipython",
    "version": 3
   },
   "file_extension": ".py",
   "mimetype": "text/x-python",
   "name": "python",
   "nbconvert_exporter": "python",
   "pygments_lexer": "ipython3",
   "version": "3.9.7"
  }
 },
 "nbformat": 4,
 "nbformat_minor": 5
}
