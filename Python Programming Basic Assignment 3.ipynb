{
 "cells": [
  {
   "cell_type": "markdown",
   "id": "2ad5a790",
   "metadata": {},
   "source": [
    "Q1. Write a Python Program to Check if a Number is Positive, Negative or Zero?"
   ]
  },
  {
   "cell_type": "code",
   "execution_count": 1,
   "id": "a346e7e9",
   "metadata": {},
   "outputs": [
    {
     "name": "stdout",
     "output_type": "stream",
     "text": [
      "enter a Number : 45\n",
      "The Number is Positive\n"
     ]
    }
   ],
   "source": [
    "num = int(input(\"enter a Number : \"))\n",
    "\n",
    "if num == 0 :\n",
    "    print(\"The number is Zero\")\n",
    "elif num > 0:\n",
    "    print(\"The Number is Positive\")\n",
    "else:\n",
    "    print(\"The number is Negative\")"
   ]
  },
  {
   "cell_type": "markdown",
   "id": "9808dcc8",
   "metadata": {},
   "source": [
    "Q2. Write a Python Program to Check if a Number is Odd or Even?"
   ]
  },
  {
   "cell_type": "code",
   "execution_count": 2,
   "id": "51684936",
   "metadata": {},
   "outputs": [
    {
     "name": "stdout",
     "output_type": "stream",
     "text": [
      "enter a Number : 6\n",
      "The number is Even\n"
     ]
    }
   ],
   "source": [
    "num = int(input(\"enter a Number : \"))\n",
    "\n",
    "if num % 2 == 0:\n",
    "    print(\"The number is Even\")\n",
    "else:\n",
    "    print(\"The number is Odd\")"
   ]
  },
  {
   "cell_type": "markdown",
   "id": "1989d157",
   "metadata": {},
   "source": [
    "Q3. Write a Python Program to Check Leap Year?"
   ]
  },
  {
   "cell_type": "code",
   "execution_count": 3,
   "id": "a1040bcf",
   "metadata": {},
   "outputs": [
    {
     "name": "stdout",
     "output_type": "stream",
     "text": [
      "Enter a year : 2022\n",
      "Not a Leap Year\n"
     ]
    }
   ],
   "source": [
    "def checkYear(year):\n",
    "    if (year % 4) == 0:\n",
    "        if (year % 100) == 0:\n",
    "            if (year % 400) == 0:\n",
    "                return True\n",
    "            else:\n",
    "                return False\n",
    "        else:\n",
    "             return True\n",
    "    else:\n",
    "        return False\n",
    " \n",
    "\n",
    "year = int(input(\"Enter a year : \"))\n",
    "if(checkYear(year)):\n",
    "    print(\"Leap Year\")\n",
    "else:\n",
    "    print(\"Not a Leap Year\")"
   ]
  },
  {
   "cell_type": "markdown",
   "id": "660c93f3",
   "metadata": {},
   "source": [
    "Q4. Write a Python Program to Check Prime Number?"
   ]
  },
  {
   "cell_type": "code",
   "execution_count": 4,
   "id": "34e9f632",
   "metadata": {},
   "outputs": [
    {
     "name": "stdout",
     "output_type": "stream",
     "text": [
      "Enter a number1: 5\n",
      "Enter a number2: 10\n",
      "5 is a prime number\n",
      "6 is not a prime\n",
      "7 is a prime number\n",
      "8 is not a prime\n",
      "9 is not a prime\n"
     ]
    },
    {
     "data": {
      "text/plain": [
       "[5, 7]"
      ]
     },
     "execution_count": 4,
     "metadata": {},
     "output_type": "execute_result"
    }
   ],
   "source": [
    "listprime = []\n",
    "num1 = int(input(\"Enter a number1: \")) \n",
    "num2 = int(input(\"Enter a number2: \")) \n",
    "for num in range(num1,num2):  \n",
    "    if num > 1:\n",
    "        for i in range(2,num):\n",
    "            if (num%i) == 0:\n",
    "                print(num,'is not a prime')                \n",
    "                break\n",
    "        else:\n",
    "            print(num,'is a prime number')\n",
    "            listprime.append(num)\n",
    "    \n",
    "listprime "
   ]
  },
  {
   "cell_type": "markdown",
   "id": "c461c698",
   "metadata": {},
   "source": [
    "Q5. Write a Python Program to Print all Prime Numbers in an Interval of 1-10000?\n",
    "Entering no's only 100 cause the output will be lengthy"
   ]
  },
  {
   "cell_type": "code",
   "execution_count": 5,
   "id": "6d51cf1f",
   "metadata": {},
   "outputs": [
    {
     "name": "stdout",
     "output_type": "stream",
     "text": [
      "Enter a number1: 1\n",
      "Enter a number2: 100\n",
      "2 is a prime number\n",
      "3 is a prime number\n",
      "4 is not a prime\n",
      "5 is a prime number\n",
      "6 is not a prime\n",
      "7 is a prime number\n",
      "8 is not a prime\n",
      "9 is not a prime\n",
      "10 is not a prime\n",
      "11 is a prime number\n",
      "12 is not a prime\n",
      "13 is a prime number\n",
      "14 is not a prime\n",
      "15 is not a prime\n",
      "16 is not a prime\n",
      "17 is a prime number\n",
      "18 is not a prime\n",
      "19 is a prime number\n",
      "20 is not a prime\n",
      "21 is not a prime\n",
      "22 is not a prime\n",
      "23 is a prime number\n",
      "24 is not a prime\n",
      "25 is not a prime\n",
      "26 is not a prime\n",
      "27 is not a prime\n",
      "28 is not a prime\n",
      "29 is a prime number\n",
      "30 is not a prime\n",
      "31 is a prime number\n",
      "32 is not a prime\n",
      "33 is not a prime\n",
      "34 is not a prime\n",
      "35 is not a prime\n",
      "36 is not a prime\n",
      "37 is a prime number\n",
      "38 is not a prime\n",
      "39 is not a prime\n",
      "40 is not a prime\n",
      "41 is a prime number\n",
      "42 is not a prime\n",
      "43 is a prime number\n",
      "44 is not a prime\n",
      "45 is not a prime\n",
      "46 is not a prime\n",
      "47 is a prime number\n",
      "48 is not a prime\n",
      "49 is not a prime\n",
      "50 is not a prime\n",
      "51 is not a prime\n",
      "52 is not a prime\n",
      "53 is a prime number\n",
      "54 is not a prime\n",
      "55 is not a prime\n",
      "56 is not a prime\n",
      "57 is not a prime\n",
      "58 is not a prime\n",
      "59 is a prime number\n",
      "60 is not a prime\n",
      "61 is a prime number\n",
      "62 is not a prime\n",
      "63 is not a prime\n",
      "64 is not a prime\n",
      "65 is not a prime\n",
      "66 is not a prime\n",
      "67 is a prime number\n",
      "68 is not a prime\n",
      "69 is not a prime\n",
      "70 is not a prime\n",
      "71 is a prime number\n",
      "72 is not a prime\n",
      "73 is a prime number\n",
      "74 is not a prime\n",
      "75 is not a prime\n",
      "76 is not a prime\n",
      "77 is not a prime\n",
      "78 is not a prime\n",
      "79 is a prime number\n",
      "80 is not a prime\n",
      "81 is not a prime\n",
      "82 is not a prime\n",
      "83 is a prime number\n",
      "84 is not a prime\n",
      "85 is not a prime\n",
      "86 is not a prime\n",
      "87 is not a prime\n",
      "88 is not a prime\n",
      "89 is a prime number\n",
      "90 is not a prime\n",
      "91 is not a prime\n",
      "92 is not a prime\n",
      "93 is not a prime\n",
      "94 is not a prime\n",
      "95 is not a prime\n",
      "96 is not a prime\n",
      "97 is a prime number\n",
      "98 is not a prime\n",
      "99 is not a prime\n"
     ]
    },
    {
     "data": {
      "text/plain": [
       "[2,\n",
       " 3,\n",
       " 5,\n",
       " 7,\n",
       " 11,\n",
       " 13,\n",
       " 17,\n",
       " 19,\n",
       " 23,\n",
       " 29,\n",
       " 31,\n",
       " 37,\n",
       " 41,\n",
       " 43,\n",
       " 47,\n",
       " 53,\n",
       " 59,\n",
       " 61,\n",
       " 67,\n",
       " 71,\n",
       " 73,\n",
       " 79,\n",
       " 83,\n",
       " 89,\n",
       " 97]"
      ]
     },
     "execution_count": 5,
     "metadata": {},
     "output_type": "execute_result"
    }
   ],
   "source": [
    "listprime = []\n",
    "num1 = int(input(\"Enter a number1: \")) \n",
    "num2 = int(input(\"Enter a number2: \")) \n",
    "for num in range(num1,num2):  \n",
    "    if num > 1:\n",
    "        for i in range(2,num):\n",
    "            if (num%i) == 0:\n",
    "                print(num,'is not a prime')                \n",
    "                break\n",
    "        else:\n",
    "            print(num,'is a prime number')\n",
    "            listprime.append(num)\n",
    "    \n",
    "listprime"
   ]
  }
 ],
 "metadata": {
  "kernelspec": {
   "display_name": "Python 3 (ipykernel)",
   "language": "python",
   "name": "python3"
  },
  "language_info": {
   "codemirror_mode": {
    "name": "ipython",
    "version": 3
   },
   "file_extension": ".py",
   "mimetype": "text/x-python",
   "name": "python",
   "nbconvert_exporter": "python",
   "pygments_lexer": "ipython3",
   "version": "3.9.7"
  }
 },
 "nbformat": 4,
 "nbformat_minor": 5
}
