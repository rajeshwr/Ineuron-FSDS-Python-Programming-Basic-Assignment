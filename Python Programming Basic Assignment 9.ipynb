{
 "cells": [
  {
   "cell_type": "markdown",
   "id": "fd602d9f",
   "metadata": {},
   "source": [
    "Q1. Write a Python Program to Add Two Matrices?"
   ]
  },
  {
   "cell_type": "code",
   "execution_count": 1,
   "id": "a8044808",
   "metadata": {},
   "outputs": [
    {
     "name": "stdout",
     "output_type": "stream",
     "text": [
      "The Sum of two matrix [[1, 6, 4], [4, 5, 6], [7, 6, 9]]  and [[2, 5, 4], [5, 8, 7], [8, 3, 1]]  is \n",
      "[[3, 11, 8], [9, 13, 13], [15, 9, 10]] \n"
     ]
    }
   ],
   "source": [
    "#solution 1\n",
    "mat1 = [[1,6,4],\n",
    "        [4,5,6],\n",
    "        [7,6,9]]\n",
    "\n",
    "mat2 = [[2,5,4],\n",
    "        [5,8,7],\n",
    "        [8,3,1]]\n",
    "\n",
    "sumMat = [[0,0,0],\n",
    "          [0,0,0],\n",
    "          [0,0,0]]\n",
    "\n",
    "sumMat = [[mat1[i][j] + mat2[i][j] for j in range(len(mat1[0]))] for i in range(len(mat1))]\n",
    "print(\"The Sum of two matrix {}  and {}  is \\n{} \".format(mat1,mat2,sumMat))"
   ]
  },
  {
   "cell_type": "code",
   "execution_count": 2,
   "id": "fb11a98d",
   "metadata": {},
   "outputs": [
    {
     "name": "stdout",
     "output_type": "stream",
     "text": [
      "The Sum of two matrix \n",
      "\n",
      "[[1 6 4]\n",
      " [4 5 6]\n",
      " [7 6 9]]  and \n",
      "\n",
      "[[2 5 4]\n",
      " [5 8 7]\n",
      " [8 3 1]]  is \n",
      "\n",
      "[[ 3 11  8]\n",
      " [ 9 13 13]\n",
      " [15  9 10]] \n"
     ]
    }
   ],
   "source": [
    "# solution 2\n",
    "import numpy as np\n",
    "\n",
    "mat1 = np.array([[1,6,4],\n",
    "        [4,5,6],\n",
    "        [7,6,9]])\n",
    "mat2 = np.array([[2,5,4],\n",
    "        [5,8,7],\n",
    "        [8,3,1]])\n",
    "\n",
    "sumMat = np.add(mat1,mat2)\n",
    "print(\"The Sum of two matrix \\n\\n{}  and \\n\\n{}  is \\n\\n{} \".format(mat1,mat2,sumMat))"
   ]
  },
  {
   "cell_type": "markdown",
   "id": "1beabf19",
   "metadata": {},
   "source": [
    "Q2. Write a Python Program to Multiply Two Matrices?"
   ]
  },
  {
   "cell_type": "code",
   "execution_count": 3,
   "id": "fb7beafc",
   "metadata": {},
   "outputs": [
    {
     "name": "stdout",
     "output_type": "stream",
     "text": [
      "Enter N for N x N matrix: 2\n",
      "Enter the element :\n",
      "1\n",
      "2\n",
      "3\n",
      "4\n",
      "Display Array M1 In Matrix Form\n",
      "1 2 \n",
      "3 4 \n",
      "Enter the element :\n",
      "3\n",
      "4\n",
      "5\n",
      "6\n",
      "Display Array M2 In Matrix Form\n",
      "3 4 \n",
      "5 6 \n",
      "Result Matrix\n",
      "[4, 6]\n",
      "[8, 10]\n"
     ]
    }
   ],
   "source": [
    "## Solution 1\n",
    "# Program to multiply two matrices\n",
    "\n",
    "def initializeMatrix(n,v=0):\n",
    "    M=[]             \n",
    "    for i in range(n):\n",
    "        #stor row\n",
    "        row =[]\n",
    "        for j in range(n):\n",
    "            row.append(v)\n",
    "        M.append(row)\n",
    "    return(M)\n",
    "\n",
    "def createMatrix(n):\n",
    "    \n",
    "    M=[]             \n",
    "    print(\"Enter the element :\")\n",
    "    for i in range(n):\n",
    "        #stor row\n",
    "        row =[]\n",
    "        for j in range(n):\n",
    "            row.append(int(input()))\n",
    "        M.append(row)\n",
    "    return(M)\n",
    "\n",
    "def printMatrix(M,n):\n",
    "    for i in range(n):\n",
    "        for j in range(n):\n",
    "            print(M[i][j], end=\" \")\n",
    "        print() \n",
    "def mulMatrix(A,B,result):        \n",
    "    for i in range(len(A)):\n",
    "        for j in range(len(B[0])):\n",
    "            for k in range(len(B)):\n",
    "                result[i][j] = result[i][j] + A[i][k] * B[k][j]\n",
    "    return result\n",
    "    \n",
    "        \n",
    "n=int(input(\"Enter N for N x N matrix: \"))       \n",
    "M1 = createMatrix(n)\n",
    "\n",
    "#Display the 2D array\n",
    "print(\"Display Array M1 In Matrix Form\")\n",
    "printMatrix(M1,n)\n",
    "\n",
    "\n",
    "M2 = createMatrix(n)\n",
    "\n",
    "#Display the 2D array\n",
    "print(\"Display Array M2 In Matrix Form\")\n",
    "printMatrix(M2,n)\n",
    "\n",
    "\n",
    "sumMat = initializeMatrix(n)\n",
    "\n",
    "for i in range(len(M1)):\n",
    "    for j in range(len(M1[0])):\n",
    "        sumMat[i][j] = M1[i][j] + M2[i][j]\n",
    "        \n",
    "print(\"Result Matrix\")\n",
    "for r in sumMat:\n",
    "    print(r)"
   ]
  },
  {
   "cell_type": "code",
   "execution_count": 4,
   "id": "2686b9fa",
   "metadata": {},
   "outputs": [
    {
     "name": "stdout",
     "output_type": "stream",
     "text": [
      "The product of two matrix \n",
      "\n",
      "[[1 2 4]\n",
      " [4 5 6]\n",
      " [7 8 9]]  and \n",
      "\n",
      "[[2 3 4]\n",
      " [5 6 7]\n",
      " [8 9 1]]  is \n",
      "\n",
      "[[ 44  51  22]\n",
      " [ 81  96  57]\n",
      " [126 150  93]] \n"
     ]
    }
   ],
   "source": [
    "# solution 2\n",
    "import numpy as np\n",
    "\n",
    "mat1 = np.array([[1,2,4],\n",
    "        [4,5,6],\n",
    "        [7,8,9]])\n",
    "mat2 = np.array([[2,3,4],\n",
    "        [5,6,7],\n",
    "        [8,9,1]])\n",
    "\n",
    "sumMat = np.dot(mat1,mat2)\n",
    "print(\"The product of two matrix \\n\\n{}  and \\n\\n{}  is \\n\\n{} \".format(mat1,mat2,sumMat))"
   ]
  },
  {
   "cell_type": "code",
   "execution_count": 5,
   "id": "95f876b5",
   "metadata": {},
   "outputs": [
    {
     "name": "stdout",
     "output_type": "stream",
     "text": [
      "Enter N for N x N matrix: 2\n",
      "Enter the element :\n",
      "4\n",
      "5\n",
      "6\n",
      "6\n",
      "Display Array M1 In Matrix Form\n",
      "4 5 \n",
      "6 6 \n",
      "Enter the element :\n",
      "2\n",
      "3\n",
      "4\n",
      "5\n",
      "Display Array M2 In Matrix Form\n",
      "2 3 \n",
      "4 5 \n",
      "Result Matrix\n",
      "[28, 37]\n",
      "[36, 48]\n"
     ]
    }
   ],
   "source": [
    "# Program to multiply two matrices\n",
    "\n",
    "def initializeMatrix(n,v=0):\n",
    "    M=[]             \n",
    "    for i in range(n):\n",
    "        #stor row\n",
    "        row =[]\n",
    "        for j in range(n):\n",
    "            row.append(v)\n",
    "        M.append(row)\n",
    "    return(M)\n",
    "\n",
    "def createMatrix(n):\n",
    "    \n",
    "    M=[]             \n",
    "    print(\"Enter the element :\")\n",
    "    for i in range(n):\n",
    "        #stor row\n",
    "        row =[]\n",
    "        for j in range(n):\n",
    "            row.append(int(input()))\n",
    "        M.append(row)\n",
    "    return(M)\n",
    "\n",
    "def printMatrix(M,n):\n",
    "    for i in range(n):\n",
    "        for j in range(n):\n",
    "            print(M[i][j], end=\" \")\n",
    "        print() \n",
    "def mulMatrix(A,B,result):        \n",
    "    for i in range(len(A)):\n",
    "        for j in range(len(B[0])):\n",
    "            for k in range(len(B)):\n",
    "                result[i][j] = result[i][j] + A[i][k] * B[k][j]\n",
    "    return result\n",
    "    \n",
    "        \n",
    "n=int(input(\"Enter N for N x N matrix: \"))       \n",
    "M1 = createMatrix(n)\n",
    "\n",
    "#Display the 2D array\n",
    "print(\"Display Array M1 In Matrix Form\")\n",
    "printMatrix(M1,n)\n",
    "\n",
    "\n",
    "M2 = createMatrix(n)\n",
    "\n",
    "#Display the 2D array\n",
    "print(\"Display Array M2 In Matrix Form\")\n",
    "printMatrix(M2,n)\n",
    "\n",
    "\n",
    "result = initializeMatrix(n)\n",
    "\n",
    "\n",
    "result = mulMatrix(M1,M2,result)\n",
    "print(\"Result Matrix\")\n",
    "for r in result:\n",
    "    print(r)"
   ]
  },
  {
   "cell_type": "markdown",
   "id": "44ffecd2",
   "metadata": {},
   "source": [
    "Q3. Write a Python Program to Transpose a Matrix?"
   ]
  },
  {
   "cell_type": "code",
   "execution_count": 6,
   "id": "f75dc6eb",
   "metadata": {},
   "outputs": [
    {
     "name": "stdout",
     "output_type": "stream",
     "text": [
      "Enter N for N x N matrix: 2\n",
      "Enter the element :\n",
      "3\n",
      "4\n",
      "5\n",
      "6\n",
      "Display Array M1 In Matrix Form\n",
      "3 4 \n",
      "5 6 \n",
      "Transposed Matrix\n",
      "[3, 5]\n",
      "[4, 6]\n"
     ]
    }
   ],
   "source": [
    "def initializeMatrix(n,v=0):\n",
    "    M=[]             \n",
    "    for i in range(n):\n",
    "        #stor row\n",
    "        row =[]\n",
    "        for j in range(n):\n",
    "            row.append(v)\n",
    "        M.append(row)\n",
    "    return(M)\n",
    "\n",
    "def createMatrix(n):\n",
    "    \n",
    "    M=[]             \n",
    "    print(\"Enter the element :\")\n",
    "    for i in range(n):\n",
    "        #stor row\n",
    "        row =[]\n",
    "        for j in range(n):\n",
    "            row.append(int(input()))\n",
    "        M.append(row)\n",
    "    return(M)\n",
    "\n",
    "def printMatrix(M,n):\n",
    "    for i in range(n):\n",
    "        for j in range(n):\n",
    "            print(M[i][j], end=\" \")\n",
    "        print() \n",
    "        \n",
    "def transposeMatrix(M,n,result):\n",
    "    for i in range(n):\n",
    "        for j in range(n):\n",
    "            result[i][j]= M[j][i]\n",
    "    return result\n",
    "\n",
    "n=int(input(\"Enter N for N x N matrix: \"))       \n",
    "M1 = createMatrix(n)\n",
    "#Display the 2D array\n",
    "print(\"Display Array M1 In Matrix Form\")\n",
    "printMatrix(M1,n)\n",
    "\n",
    "result = initializeMatrix(n)\n",
    "result = transposeMatrix(M1,n,result)\n",
    "print(\"Transposed Matrix\")\n",
    "for r in result:\n",
    "    print(r)"
   ]
  },
  {
   "cell_type": "markdown",
   "id": "3e762da3",
   "metadata": {},
   "source": [
    "Q4. Write a Python Program to Sort Words in Alphabetic Order?"
   ]
  },
  {
   "cell_type": "code",
   "execution_count": 8,
   "id": "8a7dd6b4",
   "metadata": {},
   "outputs": [
    {
     "name": "stdout",
     "output_type": "stream",
     "text": [
      "Enter some string: My name is Rajeshwari\n",
      "My\n",
      "Rajeshwari\n",
      "is\n",
      "name\n"
     ]
    }
   ],
   "source": [
    "str = input(\"Enter some string: \")\n",
    "\n",
    "words = str.split()\n",
    "words.sort()\n",
    "for word in words:\n",
    "    print(word)"
   ]
  },
  {
   "cell_type": "markdown",
   "id": "272be416",
   "metadata": {},
   "source": [
    "Q5. Write a Python Program to Remove Punctuation From a String?"
   ]
  },
  {
   "cell_type": "code",
   "execution_count": 9,
   "id": "0f74a994",
   "metadata": {},
   "outputs": [
    {
     "name": "stdout",
     "output_type": "stream",
     "text": [
      "Enter some string with panctuations\" The dish was amazin! \"\n",
      " The dish was amazin \n"
     ]
    }
   ],
   "source": [
    "punctuations = '''!()-[]{};:'\"\\,<>./?@#$%^&*_~'''\n",
    "\n",
    "str = input(\"Enter some string with panctuations\")\n",
    "\n",
    "# remove punctuation from the string\n",
    "no_punct = \"\"\n",
    "for char in str:\n",
    "    if char not in punctuations:\n",
    "        no_punct = no_punct + char\n",
    "\n",
    "# display the unpunctuated string\n",
    "print(no_punct)"
   ]
  }
 ],
 "metadata": {
  "kernelspec": {
   "display_name": "Python 3 (ipykernel)",
   "language": "python",
   "name": "python3"
  },
  "language_info": {
   "codemirror_mode": {
    "name": "ipython",
    "version": 3
   },
   "file_extension": ".py",
   "mimetype": "text/x-python",
   "name": "python",
   "nbconvert_exporter": "python",
   "pygments_lexer": "ipython3",
   "version": "3.9.7"
  }
 },
 "nbformat": 4,
 "nbformat_minor": 5
}
