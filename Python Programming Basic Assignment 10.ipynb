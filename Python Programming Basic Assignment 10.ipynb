{
 "cells": [
  {
   "cell_type": "markdown",
   "id": "563f8581",
   "metadata": {},
   "source": [
    "Q1. Write a Python program to find sum of elements in list?"
   ]
  },
  {
   "cell_type": "code",
   "execution_count": 1,
   "id": "3e2a0309",
   "metadata": {},
   "outputs": [
    {
     "name": "stdout",
     "output_type": "stream",
     "text": [
      "Enter the lenth of your list : 5\n",
      "3\n",
      "4\n",
      "5\n",
      "6\n",
      "7\n",
      "The List is  [3, 4, 5, 6, 7]\n",
      "Sum of elements in List 25\n"
     ]
    }
   ],
   "source": [
    "n = int(input(\"Enter the lenth of your list : \"))\n",
    "lst = []\n",
    "\n",
    "for i in range(n):\n",
    "    lst.append(int(input()))\n",
    "print(\"The List is \",lst)\n",
    "print(\"Sum of elements in List\",sum(lst))"
   ]
  },
  {
   "cell_type": "markdown",
   "id": "cfad8f0b",
   "metadata": {},
   "source": [
    "Q2. Write a Python program to Multiply all numbers in the list?"
   ]
  },
  {
   "cell_type": "code",
   "execution_count": 2,
   "id": "20137d75",
   "metadata": {},
   "outputs": [
    {
     "name": "stdout",
     "output_type": "stream",
     "text": [
      "Enter the lenth of your list : 2\n",
      "4\n",
      "5\n",
      "The List is  [4, 5]\n",
      "Product of elements in List is : 20\n"
     ]
    }
   ],
   "source": [
    "n = int(input(\"Enter the lenth of your list : \"))\n",
    "lst = []\n",
    "\n",
    "for i in range(n):\n",
    "    lst.append(int(input()))\n",
    "print(\"The List is \",lst)\n",
    "product = 1\n",
    "for ele in lst:\n",
    "    product = product*ele\n",
    "print(\"Product of elements in List is :\",product)"
   ]
  },
  {
   "cell_type": "markdown",
   "id": "e00b2cba",
   "metadata": {},
   "source": [
    "Q3. Write a Python program to find smallest number in a list?"
   ]
  },
  {
   "cell_type": "code",
   "execution_count": 3,
   "id": "ca140cd5",
   "metadata": {},
   "outputs": [
    {
     "name": "stdout",
     "output_type": "stream",
     "text": [
      "Enter the lenth of your list : 1\n",
      "3\n",
      "The List is  [3]\n",
      "The Smallest element in the list is : 3\n"
     ]
    }
   ],
   "source": [
    "n = int(input(\"Enter the lenth of your list : \"))\n",
    "lst = []\n",
    "\n",
    "for i in range(n):\n",
    "    lst.append(int(input()))\n",
    "print(\"The List is \",lst)\n",
    "print(\"The Smallest element in the list is :\",min(lst))"
   ]
  },
  {
   "cell_type": "markdown",
   "id": "b0a12fee",
   "metadata": {},
   "source": [
    "Q4. Write a Python program to find largest number in a list?"
   ]
  },
  {
   "cell_type": "code",
   "execution_count": 4,
   "id": "def5e114",
   "metadata": {},
   "outputs": [
    {
     "name": "stdout",
     "output_type": "stream",
     "text": [
      "Enter the lenth of your list : 2\n",
      "5\n",
      "6\n",
      "The List is  [5, 6]\n",
      "The largest element in the list is : 6\n"
     ]
    }
   ],
   "source": [
    "n = int(input(\"Enter the lenth of your list : \"))\n",
    "lst = []\n",
    "\n",
    "for i in range(n):\n",
    "    lst.append(int(input()))\n",
    "print(\"The List is \",lst)\n",
    "print(\"The largest element in the list is :\",max(lst))"
   ]
  },
  {
   "cell_type": "markdown",
   "id": "74d573b9",
   "metadata": {},
   "source": [
    "Q5. Write a Python program to find second largest number in a list?"
   ]
  },
  {
   "cell_type": "code",
   "execution_count": 5,
   "id": "e336c8c8",
   "metadata": {},
   "outputs": [
    {
     "name": "stdout",
     "output_type": "stream",
     "text": [
      "Enter the lenth of your list : 2\n",
      "3\n",
      "1\n",
      "The List is  [3, 1]\n",
      "The sorted list is  [1, 3]\n",
      "The second largest element in the list is  1\n"
     ]
    }
   ],
   "source": [
    "n = int(input(\"Enter the lenth of your list : \"))\n",
    "lst = []\n",
    "\n",
    "for i in range(n):\n",
    "    lst.append(int(input()))\n",
    "print(\"The List is \",lst)\n",
    "lst.sort()\n",
    "print(\"The sorted list is \",lst)\n",
    "print(\"The second largest element in the list is \",lst[-2])"
   ]
  },
  {
   "cell_type": "markdown",
   "id": "7c5e0b68",
   "metadata": {},
   "source": [
    "Q6. Write a Python program to find N largest elements from a list?"
   ]
  },
  {
   "cell_type": "code",
   "execution_count": 7,
   "id": "385cf646",
   "metadata": {},
   "outputs": [
    {
     "name": "stdout",
     "output_type": "stream",
     "text": [
      "Enter the lenth of your list : 5\n",
      "2\n",
      "4\n",
      "5\n",
      "6\n",
      "6\n",
      "The List is  [2, 4, 5, 6, 6]\n",
      "The sorted list is  [2, 4, 5, 6, 6]\n",
      "Enter how many largest number u want to see in from the list :3\n",
      "3 largest elements from the list are : [5, 6, 6]\n"
     ]
    }
   ],
   "source": [
    "n = int(input(\"Enter the lenth of your list : \"))\n",
    "lst = []\n",
    "\n",
    "for i in range(n):\n",
    "    lst.append(int(input()))\n",
    "print(\"The List is \",lst)\n",
    "lst.sort()\n",
    "print(\"The sorted list is \",lst)\n",
    "nlargest = int(input(\"Enter how many largest number u want to see in from the list :\"))\n",
    "\n",
    "if n < nlargest :\n",
    "    print(\"enterted value is larger then that list length\")\n",
    "else:\n",
    "    print(nlargest,\"largest elements from the list are :\",lst[(n-nlargest):])"
   ]
  },
  {
   "cell_type": "markdown",
   "id": "f474a48b",
   "metadata": {},
   "source": [
    "Q7. Write a Python program to print even numbers in a list?"
   ]
  },
  {
   "cell_type": "code",
   "execution_count": 8,
   "id": "4bd4bda7",
   "metadata": {},
   "outputs": [
    {
     "name": "stdout",
     "output_type": "stream",
     "text": [
      "Enter the lenth of your list : 4\n",
      "2\n",
      "1\n",
      "3\n",
      "4\n",
      "The List is  [2, 1, 3, 4]\n",
      "The even numbers in the list are : [2, 4]\n"
     ]
    }
   ],
   "source": [
    "n = int(input(\"Enter the lenth of your list : \"))\n",
    "lst = []\n",
    "\n",
    "for i in range(n):\n",
    "    lst.append(int(input()))\n",
    "print(\"The List is \",lst)\n",
    "evenlist =[]\n",
    "\n",
    "for i in lst:\n",
    "    if i % 2 == 0:\n",
    "        evenlist.append(i)\n",
    "print(\"The even numbers in the list are :\",evenlist)"
   ]
  },
  {
   "cell_type": "markdown",
   "id": "cdb21310",
   "metadata": {},
   "source": [
    "Q8. Write a Python program to print odd numbers in a List?"
   ]
  },
  {
   "cell_type": "code",
   "execution_count": 9,
   "id": "143628ae",
   "metadata": {},
   "outputs": [
    {
     "name": "stdout",
     "output_type": "stream",
     "text": [
      "Enter the lenth of your list : 3\n",
      "1\n",
      "2\n",
      "3\n",
      "The List is  [1, 2, 3]\n",
      "The odd numbers in the list are : [1, 3]\n"
     ]
    }
   ],
   "source": [
    "n = int(input(\"Enter the lenth of your list : \"))\n",
    "lst = []\n",
    "\n",
    "for i in range(n):\n",
    "    lst.append(int(input()))\n",
    "print(\"The List is \",lst)\n",
    "oddlist =[]\n",
    "\n",
    "for i in lst:\n",
    "    if i % 2 != 0:\n",
    "        oddlist.append(i)\n",
    "print(\"The odd numbers in the list are :\",oddlist)"
   ]
  },
  {
   "cell_type": "markdown",
   "id": "08d5a7ed",
   "metadata": {},
   "source": [
    "Q9. Write a Python program to Remove empty List from List?"
   ]
  },
  {
   "cell_type": "code",
   "execution_count": 10,
   "id": "8ee540be",
   "metadata": {},
   "outputs": [
    {
     "name": "stdout",
     "output_type": "stream",
     "text": [
      "The List : [2, [], 4, 5, [], 6, 8, [], 3]\n",
      "The list after removing empty lists\n",
      "[2, 4, 5, 6, 8, 3]\n"
     ]
    }
   ],
   "source": [
    "lst = [2,[],4,5,[],6,8,[],3]\n",
    "print(\"The List :\",lst)\n",
    "removedlist = [ele for ele in lst if ele != []]\n",
    "print(\"The list after removing empty lists\")\n",
    "print(removedlist)"
   ]
  },
  {
   "cell_type": "markdown",
   "id": "78472da5",
   "metadata": {},
   "source": [
    "Q10. Write a Python program to Cloning or Copying a list?"
   ]
  },
  {
   "cell_type": "code",
   "execution_count": 11,
   "id": "d3206fec",
   "metadata": {},
   "outputs": [
    {
     "name": "stdout",
     "output_type": "stream",
     "text": [
      "Enter the lenth of your list : 4\n",
      "2\n",
      "3\n",
      "1\n",
      "4\n",
      "The List is  [2, 3, 1, 4]\n",
      "The cloned/copied list :\n",
      "Cloning By list slicing lst[:]  [2, 3, 1, 4]\n",
      "Cloning By list copying lst.copy()  [2, 3, 1, 4]\n",
      "Cloning By list Comprahention  [2, 3, 1, 4]\n",
      "Cloning By list append  [2, 3, 1, 4]\n"
     ]
    }
   ],
   "source": [
    "n = int(input(\"Enter the lenth of your list : \"))\n",
    "lst = []\n",
    "\n",
    "for i in range(n):\n",
    "    lst.append(int(input()))\n",
    "print(\"The List is \",lst)\n",
    "\n",
    "print(\"The cloned/copied list :\")\n",
    "\n",
    "#Method 1\n",
    "lstcopy = lst[:]\n",
    "print(\"Cloning By list slicing lst[:] \",lstcopy)\n",
    "\n",
    "#method2\n",
    "lst2 = lst.copy()\n",
    "print(\"Cloning By list copying lst.copy() \",lst2)\n",
    "\n",
    "\n",
    "#Method3\n",
    "lstcomprah = [i for i in lst]\n",
    "print(\"Cloning By list Comprahention \",lstcomprah)\n",
    "\n",
    "\n",
    "#method4\n",
    "lstappend=[]\n",
    "for i in lst : lstappend.append(i)\n",
    "print(\"Cloning By list append \",lstappend)"
   ]
  },
  {
   "cell_type": "code",
   "execution_count": null,
   "id": "e476338b",
   "metadata": {},
   "outputs": [],
   "source": [
    "Q11. Write a Python program to Count occurrences of an element in a list?"
   ]
  },
  {
   "cell_type": "code",
   "execution_count": 12,
   "id": "37d87a44",
   "metadata": {},
   "outputs": [
    {
     "name": "stdout",
     "output_type": "stream",
     "text": [
      "Enter the lenth of your list : 5\n",
      "1\n",
      "2\n",
      "3\n",
      "4\n",
      "5\n",
      "The List is  [1, 2, 3, 4, 5]\n",
      "Enter the element to find its occurance : 3\n",
      "3 has occured 1 times in the list \n"
     ]
    }
   ],
   "source": [
    "n = int(input(\"Enter the lenth of your list : \"))\n",
    "lst = []\n",
    "\n",
    "for i in range(n):\n",
    "    lst.append(int(input()))\n",
    "print(\"The List is \",lst)\n",
    "ele= int(input(\"Enter the element to find its occurance : \"))\n",
    "print(ele,\"has occured {} times in the list \".format(lst.count(ele)))"
   ]
  }
 ],
 "metadata": {
  "kernelspec": {
   "display_name": "Python 3 (ipykernel)",
   "language": "python",
   "name": "python3"
  },
  "language_info": {
   "codemirror_mode": {
    "name": "ipython",
    "version": 3
   },
   "file_extension": ".py",
   "mimetype": "text/x-python",
   "name": "python",
   "nbconvert_exporter": "python",
   "pygments_lexer": "ipython3",
   "version": "3.9.7"
  }
 },
 "nbformat": 4,
 "nbformat_minor": 5
}
